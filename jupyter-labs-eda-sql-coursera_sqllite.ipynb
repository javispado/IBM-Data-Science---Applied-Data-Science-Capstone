{
 "cells": [
  {
   "cell_type": "markdown",
   "metadata": {},
   "source": [
    "<p style=\"text-align:center\">\n",
    "    <a href=\"https://skills.network\" target=\"_blank\">\n",
    "    <img src=\"https://cf-courses-data.s3.us.cloud-object-storage.appdomain.cloud/assets/logos/SN_web_lightmode.png\" width=\"200\" alt=\"Skills Network Logo\">\n",
    "    </a>\n",
    "</p>\n",
    "\n",
    "<h1 align=center><font size = 5>Assignment: SQL Notebook for Peer Assignment</font></h1>\n",
    "\n",
    "Estimated time needed: **60** minutes.\n",
    "\n",
    "## Introduction\n",
    "Using this Python notebook you will:\n",
    "\n",
    "1.  Understand the Spacex DataSet\n",
    "2.  Load the dataset  into the corresponding table in a Db2 database\n",
    "3.  Execute SQL queries to answer assignment questions \n"
   ]
  },
  {
   "cell_type": "markdown",
   "metadata": {},
   "source": [
    "## Overview of the DataSet\n",
    "\n",
    "SpaceX has gained worldwide attention for a series of historic milestones. \n",
    "\n",
    "It is the only private company ever to return a spacecraft from low-earth orbit, which it first accomplished in December 2010.\n",
    "SpaceX advertises Falcon 9 rocket launches on its website with a cost of 62 million dollars wheras other providers cost upward of 165 million dollars each, much of the savings is because Space X can reuse the first stage. \n",
    "\n",
    "\n",
    "Therefore if we can determine if the first stage will land, we can determine the cost of a launch. \n",
    "\n",
    "This information can be used if an alternate company wants to bid against SpaceX for a rocket launch.\n",
    "\n",
    "This dataset includes a record for each payload carried during a SpaceX mission into outer space.\n"
   ]
  },
  {
   "cell_type": "markdown",
   "metadata": {},
   "source": [
    "### Download the datasets\n",
    "\n",
    "This assignment requires you to load the spacex dataset.\n",
    "\n",
    "In many cases the dataset to be analyzed is available as a .CSV (comma separated values) file, perhaps on the internet. Click on the link below to download and save the dataset (.CSV file):\n",
    "\n",
    " <a href=\"https://cf-courses-data.s3.us.cloud-object-storage.appdomain.cloud/IBM-DS0321EN-SkillsNetwork/labs/module_2/data/Spacex.csv\" target=\"_blank\">Spacex DataSet</a>\n",
    "\n"
   ]
  },
  {
   "cell_type": "code",
   "execution_count": 1,
   "metadata": {},
   "outputs": [
    {
     "name": "stdout",
     "output_type": "stream",
     "text": [
      "Collecting sqlalchemy==1.3.9\n",
      "  Downloading SQLAlchemy-1.3.9.tar.gz (6.0 MB)\n",
      "\u001b[2K     \u001b[90m━━━━━━━━━━━━━━━━━━━━━━━━━━━━━━━━━━━━━━━━\u001b[0m \u001b[32m6.0/6.0 MB\u001b[0m \u001b[31m90.7 MB/s\u001b[0m eta \u001b[36m0:00:00\u001b[0mta \u001b[36m0:00:01\u001b[0m\n",
      "\u001b[?25h  Preparing metadata (setup.py) ... \u001b[?25ldone\n",
      "\u001b[?25hBuilding wheels for collected packages: sqlalchemy\n",
      "  Building wheel for sqlalchemy (setup.py) ... \u001b[?25ldone\n",
      "\u001b[?25h  Created wheel for sqlalchemy: filename=SQLAlchemy-1.3.9-cp311-cp311-linux_x86_64.whl size=1142923 sha256=2919db6eb599693233c96e6f39e0a1b87af9a0e6fbca8ed60679a39be5eb0ff4\n",
      "  Stored in directory: /home/jupyterlab/.cache/pip/wheels/3a/7c/1e/12404784a68083eb969f877a1808a1847bab897684b56ddc55\n",
      "Successfully built sqlalchemy\n",
      "Installing collected packages: sqlalchemy\n",
      "  Attempting uninstall: sqlalchemy\n",
      "    Found existing installation: SQLAlchemy 2.0.30\n",
      "    Uninstalling SQLAlchemy-2.0.30:\n",
      "      Successfully uninstalled SQLAlchemy-2.0.30\n",
      "\u001b[31mERROR: pip's dependency resolver does not currently take into account all the packages that are installed. This behaviour is the source of the following dependency conflicts.\n",
      "jupyterhub 4.1.5 requires SQLAlchemy>=1.4, but you have sqlalchemy 1.3.9 which is incompatible.\u001b[0m\u001b[31m\n",
      "\u001b[0mSuccessfully installed sqlalchemy-1.3.9\n"
     ]
    }
   ],
   "source": [
    "!pip install sqlalchemy==1.3.9\n"
   ]
  },
  {
   "cell_type": "markdown",
   "metadata": {},
   "source": [
    "### Connect to the database\n",
    "\n",
    "Let us first load the SQL extension and establish a connection with the database\n"
   ]
  },
  {
   "cell_type": "code",
   "execution_count": 2,
   "metadata": {},
   "outputs": [
    {
     "name": "stdout",
     "output_type": "stream",
     "text": [
      "Collecting ipython-sql\n",
      "  Downloading ipython_sql-0.5.0-py3-none-any.whl.metadata (17 kB)\n",
      "Collecting prettytable (from ipython-sql)\n",
      "  Downloading prettytable-3.11.0-py3-none-any.whl.metadata (30 kB)\n",
      "Requirement already satisfied: ipython in /opt/conda/lib/python3.11/site-packages (from ipython-sql) (8.22.2)\n",
      "Collecting sqlalchemy>=2.0 (from ipython-sql)\n",
      "  Downloading SQLAlchemy-2.0.34-cp311-cp311-manylinux_2_17_x86_64.manylinux2014_x86_64.whl.metadata (9.6 kB)\n",
      "Collecting sqlparse (from ipython-sql)\n",
      "  Downloading sqlparse-0.5.1-py3-none-any.whl.metadata (3.9 kB)\n",
      "Requirement already satisfied: six in /opt/conda/lib/python3.11/site-packages (from ipython-sql) (1.16.0)\n",
      "Requirement already satisfied: ipython-genutils in /opt/conda/lib/python3.11/site-packages (from ipython-sql) (0.2.0)\n",
      "Requirement already satisfied: typing-extensions>=4.6.0 in /opt/conda/lib/python3.11/site-packages (from sqlalchemy>=2.0->ipython-sql) (4.11.0)\n",
      "Requirement already satisfied: greenlet!=0.4.17 in /opt/conda/lib/python3.11/site-packages (from sqlalchemy>=2.0->ipython-sql) (3.0.3)\n",
      "Requirement already satisfied: decorator in /opt/conda/lib/python3.11/site-packages (from ipython->ipython-sql) (5.1.1)\n",
      "Requirement already satisfied: jedi>=0.16 in /opt/conda/lib/python3.11/site-packages (from ipython->ipython-sql) (0.19.1)\n",
      "Requirement already satisfied: matplotlib-inline in /opt/conda/lib/python3.11/site-packages (from ipython->ipython-sql) (0.1.7)\n",
      "Requirement already satisfied: prompt-toolkit<3.1.0,>=3.0.41 in /opt/conda/lib/python3.11/site-packages (from ipython->ipython-sql) (3.0.42)\n",
      "Requirement already satisfied: pygments>=2.4.0 in /opt/conda/lib/python3.11/site-packages (from ipython->ipython-sql) (2.18.0)\n",
      "Requirement already satisfied: stack-data in /opt/conda/lib/python3.11/site-packages (from ipython->ipython-sql) (0.6.2)\n",
      "Requirement already satisfied: traitlets>=5.13.0 in /opt/conda/lib/python3.11/site-packages (from ipython->ipython-sql) (5.14.3)\n",
      "Requirement already satisfied: pexpect>4.3 in /opt/conda/lib/python3.11/site-packages (from ipython->ipython-sql) (4.9.0)\n",
      "Requirement already satisfied: wcwidth in /opt/conda/lib/python3.11/site-packages (from prettytable->ipython-sql) (0.2.13)\n",
      "Requirement already satisfied: parso<0.9.0,>=0.8.3 in /opt/conda/lib/python3.11/site-packages (from jedi>=0.16->ipython->ipython-sql) (0.8.4)\n",
      "Requirement already satisfied: ptyprocess>=0.5 in /opt/conda/lib/python3.11/site-packages (from pexpect>4.3->ipython->ipython-sql) (0.7.0)\n",
      "Requirement already satisfied: executing>=1.2.0 in /opt/conda/lib/python3.11/site-packages (from stack-data->ipython->ipython-sql) (2.0.1)\n",
      "Requirement already satisfied: asttokens>=2.1.0 in /opt/conda/lib/python3.11/site-packages (from stack-data->ipython->ipython-sql) (2.4.1)\n",
      "Requirement already satisfied: pure-eval in /opt/conda/lib/python3.11/site-packages (from stack-data->ipython->ipython-sql) (0.2.2)\n",
      "Downloading ipython_sql-0.5.0-py3-none-any.whl (20 kB)\n",
      "Downloading SQLAlchemy-2.0.34-cp311-cp311-manylinux_2_17_x86_64.manylinux2014_x86_64.whl (3.2 MB)\n",
      "\u001b[2K   \u001b[90m━━━━━━━━━━━━━━━━━━━━━━━━━━━━━━━━━━━━━━━━\u001b[0m \u001b[32m3.2/3.2 MB\u001b[0m \u001b[31m76.3 MB/s\u001b[0m eta \u001b[36m0:00:00\u001b[0m:00:01\u001b[0m\n",
      "\u001b[?25hDownloading prettytable-3.11.0-py3-none-any.whl (28 kB)\n",
      "Downloading sqlparse-0.5.1-py3-none-any.whl (44 kB)\n",
      "\u001b[2K   \u001b[90m━━━━━━━━━━━━━━━━━━━━━━━━━━━━━━━━━━━━━━━━\u001b[0m \u001b[32m44.2/44.2 kB\u001b[0m \u001b[31m4.8 MB/s\u001b[0m eta \u001b[36m0:00:00\u001b[0m\n",
      "\u001b[?25hInstalling collected packages: sqlparse, sqlalchemy, prettytable, ipython-sql\n",
      "  Attempting uninstall: sqlalchemy\n",
      "    Found existing installation: SQLAlchemy 1.3.9\n",
      "    Uninstalling SQLAlchemy-1.3.9:\n",
      "      Successfully uninstalled SQLAlchemy-1.3.9\n",
      "Successfully installed ipython-sql-0.5.0 prettytable-3.11.0 sqlalchemy-2.0.34 sqlparse-0.5.1\n"
     ]
    }
   ],
   "source": [
    "!pip install ipython-sql"
   ]
  },
  {
   "cell_type": "code",
   "execution_count": 3,
   "metadata": {},
   "outputs": [],
   "source": [
    "%load_ext sql"
   ]
  },
  {
   "cell_type": "code",
   "execution_count": 4,
   "metadata": {},
   "outputs": [],
   "source": [
    "import csv, sqlite3\n",
    "\n",
    "con = sqlite3.connect(\"my_data1.db\")\n",
    "cur = con.cursor()"
   ]
  },
  {
   "cell_type": "code",
   "execution_count": 5,
   "metadata": {},
   "outputs": [],
   "source": [
    "!pip install -q pandas"
   ]
  },
  {
   "cell_type": "code",
   "execution_count": 6,
   "metadata": {},
   "outputs": [],
   "source": [
    "%sql sqlite:///my_data1.db"
   ]
  },
  {
   "cell_type": "code",
   "execution_count": 7,
   "metadata": {},
   "outputs": [
    {
     "data": {
      "text/plain": [
       "101"
      ]
     },
     "execution_count": 7,
     "metadata": {},
     "output_type": "execute_result"
    }
   ],
   "source": [
    "import pandas as pd\n",
    "df = pd.read_csv(\"https://cf-courses-data.s3.us.cloud-object-storage.appdomain.cloud/IBM-DS0321EN-SkillsNetwork/labs/module_2/data/Spacex.csv\")\n",
    "df.to_sql(\"SPACEXTBL\", con, if_exists='replace', index=False,method=\"multi\")"
   ]
  },
  {
   "cell_type": "markdown",
   "metadata": {},
   "source": [
    "**Note:This below code is added to remove blank rows from table**\n"
   ]
  },
  {
   "cell_type": "code",
   "execution_count": 8,
   "metadata": {},
   "outputs": [
    {
     "name": "stdout",
     "output_type": "stream",
     "text": [
      " * sqlite:///my_data1.db\n",
      "Done.\n"
     ]
    },
    {
     "data": {
      "text/plain": [
       "[]"
      ]
     },
     "execution_count": 8,
     "metadata": {},
     "output_type": "execute_result"
    }
   ],
   "source": [
    "#DROP THE TABLE IF EXISTS\n",
    "\n",
    "%sql DROP TABLE IF EXISTS SPACEXTABLE;"
   ]
  },
  {
   "cell_type": "code",
   "execution_count": 9,
   "metadata": {},
   "outputs": [
    {
     "name": "stdout",
     "output_type": "stream",
     "text": [
      " * sqlite:///my_data1.db\n",
      "Done.\n"
     ]
    },
    {
     "data": {
      "text/plain": [
       "[]"
      ]
     },
     "execution_count": 9,
     "metadata": {},
     "output_type": "execute_result"
    }
   ],
   "source": [
    "%sql create table SPACEXTABLE as select * from SPACEXTBL where Date is not null"
   ]
  },
  {
   "cell_type": "markdown",
   "metadata": {},
   "source": [
    "## Tasks\n",
    "\n",
    "Now write and execute SQL queries to solve the assignment tasks.\n",
    "\n",
    "**Note: If the column names are in mixed case enclose it in double quotes\n",
    "   For Example \"Landing_Outcome\"**\n",
    "\n",
    "### Task 1\n",
    "\n",
    "\n",
    "\n",
    "\n",
    "##### Display the names of the unique launch sites  in the space mission\n"
   ]
  },
  {
   "cell_type": "code",
   "execution_count": 17,
   "metadata": {},
   "outputs": [
    {
     "data": {
      "text/html": [
       "<style type=\"text/css\">\n",
       "#T_6846e tr:nth-child(even) {\n",
       "  background-color: #838282;\n",
       "}\n",
       "</style>\n",
       "<table id=\"T_6846e\">\n",
       "  <thead>\n",
       "    <tr>\n",
       "      <th class=\"blank level0\" >&nbsp;</th>\n",
       "      <th id=\"T_6846e_level0_col0\" class=\"col_heading level0 col0\" >Launch_Site</th>\n",
       "    </tr>\n",
       "  </thead>\n",
       "  <tbody>\n",
       "    <tr>\n",
       "      <th id=\"T_6846e_level0_row0\" class=\"row_heading level0 row0\" ></th>\n",
       "      <td id=\"T_6846e_row0_col0\" class=\"data row0 col0\" >CCAFS LC-40</td>\n",
       "    </tr>\n",
       "    <tr>\n",
       "      <th id=\"T_6846e_level0_row1\" class=\"row_heading level0 row1\" ></th>\n",
       "      <td id=\"T_6846e_row1_col0\" class=\"data row1 col0\" >VAFB SLC-4E</td>\n",
       "    </tr>\n",
       "    <tr>\n",
       "      <th id=\"T_6846e_level0_row2\" class=\"row_heading level0 row2\" ></th>\n",
       "      <td id=\"T_6846e_row2_col0\" class=\"data row2 col0\" >KSC LC-39A</td>\n",
       "    </tr>\n",
       "    <tr>\n",
       "      <th id=\"T_6846e_level0_row3\" class=\"row_heading level0 row3\" ></th>\n",
       "      <td id=\"T_6846e_row3_col0\" class=\"data row3 col0\" >CCAFS SLC-40</td>\n",
       "    </tr>\n",
       "  </tbody>\n",
       "</table>\n"
      ],
      "text/plain": [
       "<pandas.io.formats.style.Styler at 0x7f4eadfba910>"
      ]
     },
     "execution_count": 17,
     "metadata": {},
     "output_type": "execute_result"
    }
   ],
   "source": [
    "query = \"\"\"\n",
    "SELECT DISTINCT \"Launch_Site\"\n",
    "FROM SPACEXTABLE\n",
    "\"\"\"\n",
    "\n",
    "cur.execute(query)\n",
    "\n",
    "launch_sites = cur.fetchall()\n",
    "\n",
    "df = pd.DataFrame(launch_sites, columns=[\"Launch_Site\"])\n",
    "\n",
    "styled_df = df.style.set_table_styles([\n",
    "    {'selector': 'tr:nth-child(even)', 'props': [('background-color', '#838282')]}\n",
    "])\n",
    "\n",
    "df.index = [''] * len(df)\n",
    "\n",
    "styled_df"
   ]
  },
  {
   "cell_type": "markdown",
   "metadata": {},
   "source": [
    "\n",
    "### Task 2\n",
    "\n",
    "\n",
    "#####  Display 5 records where launch sites begin with the string 'CCA' \n"
   ]
  },
  {
   "cell_type": "code",
   "execution_count": 18,
   "metadata": {},
   "outputs": [
    {
     "data": {
      "text/html": [
       "<style type=\"text/css\">\n",
       "#T_6c438 tr:nth-child(even) {\n",
       "  background-color: #838282;\n",
       "}\n",
       "</style>\n",
       "<table id=\"T_6c438\">\n",
       "  <thead>\n",
       "    <tr>\n",
       "      <th class=\"blank level0\" >&nbsp;</th>\n",
       "      <th id=\"T_6c438_level0_col0\" class=\"col_heading level0 col0\" >Date</th>\n",
       "      <th id=\"T_6c438_level0_col1\" class=\"col_heading level0 col1\" >Time (UTC)</th>\n",
       "      <th id=\"T_6c438_level0_col2\" class=\"col_heading level0 col2\" >Booster_Version</th>\n",
       "      <th id=\"T_6c438_level0_col3\" class=\"col_heading level0 col3\" >Launch_Site</th>\n",
       "      <th id=\"T_6c438_level0_col4\" class=\"col_heading level0 col4\" >Payload</th>\n",
       "      <th id=\"T_6c438_level0_col5\" class=\"col_heading level0 col5\" >PAYLOAD_MASS__KG_</th>\n",
       "      <th id=\"T_6c438_level0_col6\" class=\"col_heading level0 col6\" >Orbit</th>\n",
       "      <th id=\"T_6c438_level0_col7\" class=\"col_heading level0 col7\" >Customer</th>\n",
       "      <th id=\"T_6c438_level0_col8\" class=\"col_heading level0 col8\" >Mission_Outcome</th>\n",
       "      <th id=\"T_6c438_level0_col9\" class=\"col_heading level0 col9\" >Landing_Outcome</th>\n",
       "    </tr>\n",
       "  </thead>\n",
       "  <tbody>\n",
       "    <tr>\n",
       "      <th id=\"T_6c438_level0_row0\" class=\"row_heading level0 row0\" ></th>\n",
       "      <td id=\"T_6c438_row0_col0\" class=\"data row0 col0\" >2010-06-04</td>\n",
       "      <td id=\"T_6c438_row0_col1\" class=\"data row0 col1\" >18:45:00</td>\n",
       "      <td id=\"T_6c438_row0_col2\" class=\"data row0 col2\" >F9 v1.0  B0003</td>\n",
       "      <td id=\"T_6c438_row0_col3\" class=\"data row0 col3\" >CCAFS LC-40</td>\n",
       "      <td id=\"T_6c438_row0_col4\" class=\"data row0 col4\" >Dragon Spacecraft Qualification Unit</td>\n",
       "      <td id=\"T_6c438_row0_col5\" class=\"data row0 col5\" >0</td>\n",
       "      <td id=\"T_6c438_row0_col6\" class=\"data row0 col6\" >LEO</td>\n",
       "      <td id=\"T_6c438_row0_col7\" class=\"data row0 col7\" >SpaceX</td>\n",
       "      <td id=\"T_6c438_row0_col8\" class=\"data row0 col8\" >Success</td>\n",
       "      <td id=\"T_6c438_row0_col9\" class=\"data row0 col9\" >Failure (parachute)</td>\n",
       "    </tr>\n",
       "    <tr>\n",
       "      <th id=\"T_6c438_level0_row1\" class=\"row_heading level0 row1\" ></th>\n",
       "      <td id=\"T_6c438_row1_col0\" class=\"data row1 col0\" >2010-12-08</td>\n",
       "      <td id=\"T_6c438_row1_col1\" class=\"data row1 col1\" >15:43:00</td>\n",
       "      <td id=\"T_6c438_row1_col2\" class=\"data row1 col2\" >F9 v1.0  B0004</td>\n",
       "      <td id=\"T_6c438_row1_col3\" class=\"data row1 col3\" >CCAFS LC-40</td>\n",
       "      <td id=\"T_6c438_row1_col4\" class=\"data row1 col4\" >Dragon demo flight C1, two CubeSats, barrel of Brouere cheese</td>\n",
       "      <td id=\"T_6c438_row1_col5\" class=\"data row1 col5\" >0</td>\n",
       "      <td id=\"T_6c438_row1_col6\" class=\"data row1 col6\" >LEO (ISS)</td>\n",
       "      <td id=\"T_6c438_row1_col7\" class=\"data row1 col7\" >NASA (COTS) NRO</td>\n",
       "      <td id=\"T_6c438_row1_col8\" class=\"data row1 col8\" >Success</td>\n",
       "      <td id=\"T_6c438_row1_col9\" class=\"data row1 col9\" >Failure (parachute)</td>\n",
       "    </tr>\n",
       "    <tr>\n",
       "      <th id=\"T_6c438_level0_row2\" class=\"row_heading level0 row2\" ></th>\n",
       "      <td id=\"T_6c438_row2_col0\" class=\"data row2 col0\" >2012-05-22</td>\n",
       "      <td id=\"T_6c438_row2_col1\" class=\"data row2 col1\" >7:44:00</td>\n",
       "      <td id=\"T_6c438_row2_col2\" class=\"data row2 col2\" >F9 v1.0  B0005</td>\n",
       "      <td id=\"T_6c438_row2_col3\" class=\"data row2 col3\" >CCAFS LC-40</td>\n",
       "      <td id=\"T_6c438_row2_col4\" class=\"data row2 col4\" >Dragon demo flight C2</td>\n",
       "      <td id=\"T_6c438_row2_col5\" class=\"data row2 col5\" >525</td>\n",
       "      <td id=\"T_6c438_row2_col6\" class=\"data row2 col6\" >LEO (ISS)</td>\n",
       "      <td id=\"T_6c438_row2_col7\" class=\"data row2 col7\" >NASA (COTS)</td>\n",
       "      <td id=\"T_6c438_row2_col8\" class=\"data row2 col8\" >Success</td>\n",
       "      <td id=\"T_6c438_row2_col9\" class=\"data row2 col9\" >No attempt</td>\n",
       "    </tr>\n",
       "    <tr>\n",
       "      <th id=\"T_6c438_level0_row3\" class=\"row_heading level0 row3\" ></th>\n",
       "      <td id=\"T_6c438_row3_col0\" class=\"data row3 col0\" >2012-10-08</td>\n",
       "      <td id=\"T_6c438_row3_col1\" class=\"data row3 col1\" >0:35:00</td>\n",
       "      <td id=\"T_6c438_row3_col2\" class=\"data row3 col2\" >F9 v1.0  B0006</td>\n",
       "      <td id=\"T_6c438_row3_col3\" class=\"data row3 col3\" >CCAFS LC-40</td>\n",
       "      <td id=\"T_6c438_row3_col4\" class=\"data row3 col4\" >SpaceX CRS-1</td>\n",
       "      <td id=\"T_6c438_row3_col5\" class=\"data row3 col5\" >500</td>\n",
       "      <td id=\"T_6c438_row3_col6\" class=\"data row3 col6\" >LEO (ISS)</td>\n",
       "      <td id=\"T_6c438_row3_col7\" class=\"data row3 col7\" >NASA (CRS)</td>\n",
       "      <td id=\"T_6c438_row3_col8\" class=\"data row3 col8\" >Success</td>\n",
       "      <td id=\"T_6c438_row3_col9\" class=\"data row3 col9\" >No attempt</td>\n",
       "    </tr>\n",
       "    <tr>\n",
       "      <th id=\"T_6c438_level0_row4\" class=\"row_heading level0 row4\" ></th>\n",
       "      <td id=\"T_6c438_row4_col0\" class=\"data row4 col0\" >2013-03-01</td>\n",
       "      <td id=\"T_6c438_row4_col1\" class=\"data row4 col1\" >15:10:00</td>\n",
       "      <td id=\"T_6c438_row4_col2\" class=\"data row4 col2\" >F9 v1.0  B0007</td>\n",
       "      <td id=\"T_6c438_row4_col3\" class=\"data row4 col3\" >CCAFS LC-40</td>\n",
       "      <td id=\"T_6c438_row4_col4\" class=\"data row4 col4\" >SpaceX CRS-2</td>\n",
       "      <td id=\"T_6c438_row4_col5\" class=\"data row4 col5\" >677</td>\n",
       "      <td id=\"T_6c438_row4_col6\" class=\"data row4 col6\" >LEO (ISS)</td>\n",
       "      <td id=\"T_6c438_row4_col7\" class=\"data row4 col7\" >NASA (CRS)</td>\n",
       "      <td id=\"T_6c438_row4_col8\" class=\"data row4 col8\" >Success</td>\n",
       "      <td id=\"T_6c438_row4_col9\" class=\"data row4 col9\" >No attempt</td>\n",
       "    </tr>\n",
       "  </tbody>\n",
       "</table>\n"
      ],
      "text/plain": [
       "<pandas.io.formats.style.Styler at 0x7f4e876f1810>"
      ]
     },
     "execution_count": 18,
     "metadata": {},
     "output_type": "execute_result"
    }
   ],
   "source": [
    "import pandas as pd\n",
    "\n",
    "# Consulta SQL\n",
    "query = \"\"\"\n",
    "SELECT *\n",
    "FROM SPACEXTABLE\n",
    "WHERE \"Launch_Site\" LIKE 'CCA%'\n",
    "LIMIT 5\n",
    "\"\"\"\n",
    "\n",
    "cur.execute(query)\n",
    "\n",
    "records = cur.fetchall()\n",
    "\n",
    "column_names = [desc[0] for desc in cur.description]\n",
    "\n",
    "df = pd.DataFrame(records, columns=column_names)\n",
    "\n",
    "styled_df = df.style.set_table_styles([\n",
    "    {'selector': 'tr:nth-child(even)', 'props': [('background-color', '#838282')]}\n",
    "])\n",
    "\n",
    "df.index = [''] * len(df)\n",
    "\n",
    "styled_df"
   ]
  },
  {
   "cell_type": "markdown",
   "metadata": {},
   "source": [
    "### Task 3\n",
    "\n",
    "\n",
    "\n",
    "\n",
    "##### Display the total payload mass carried by boosters launched by NASA (CRS)\n"
   ]
  },
  {
   "cell_type": "code",
   "execution_count": 19,
   "metadata": {},
   "outputs": [
    {
     "name": "stdout",
     "output_type": "stream",
     "text": [
      "Total Payload Mass carried by NASA (CRS) boosters: 45596 kg\n"
     ]
    }
   ],
   "source": [
    "query = \"\"\"\n",
    "SELECT SUM(\"PAYLOAD_MASS__KG_\") as sum \n",
    "FROM SPACEXTABLE\n",
    "WHERE \"Customer\" LIKE 'NASA (CRS)'\n",
    "\"\"\"\n",
    "\n",
    "cur.execute(query)\n",
    "\n",
    "total_payload_mass = cur.fetchone()\n",
    "\n",
    "print(\"Total Payload Mass carried by NASA (CRS) boosters:\", total_payload_mass[0], \"kg\")"
   ]
  },
  {
   "cell_type": "markdown",
   "metadata": {},
   "source": [
    "### Task 4\n",
    "\n",
    "\n",
    "\n",
    "\n",
    "##### Display average payload mass carried by booster version F9 v1.1\n"
   ]
  },
  {
   "cell_type": "code",
   "execution_count": 24,
   "metadata": {},
   "outputs": [
    {
     "name": "stdout",
     "output_type": "stream",
     "text": [
      "Average Payload Mass carried by F9 v1.1 boosters: 2534 kg\n"
     ]
    }
   ],
   "source": [
    "query = \"\"\"\n",
    "SELECT AVG(PAYLOAD_MASS__KG_) as Average \n",
    "FROM SPACEXTABLE WHERE\n",
    "booster_version LIKE 'F9 v1.1%'\n",
    "\"\"\"\n",
    "\n",
    "cur.execute(query)\n",
    "\n",
    "average_payload_mass = cur.fetchone()\n",
    "average_payload_mass_int = int(average_payload_mass[0])\n",
    "\n",
    "print(\"Average Payload Mass carried by F9 v1.1 boosters:\", average_payload_mass_int, \"kg\")"
   ]
  },
  {
   "cell_type": "markdown",
   "metadata": {},
   "source": [
    "### Task 5\n",
    "\n",
    "##### List the date when the first succesful landing outcome in ground pad was acheived.\n",
    "\n",
    "\n",
    "_Hint:Use min function_ \n"
   ]
  },
  {
   "cell_type": "code",
   "execution_count": 26,
   "metadata": {},
   "outputs": [
    {
     "name": "stdout",
     "output_type": "stream",
     "text": [
      "First successful landing on ground pad was achieved on: 2015-12-22\n"
     ]
    }
   ],
   "source": [
    "query = \"\"\"\n",
    "SELECT MIN(\"Date\") as First_Successful_Landing_Date\n",
    "FROM SPACEXTABLE\n",
    "WHERE \"Landing_Outcome\" = 'Success (ground pad)'\n",
    "\"\"\"\n",
    "\n",
    "cur.execute(query)\n",
    "\n",
    "first_successful_landing_date = cur.fetchone()\n",
    "\n",
    "print(\"First successful landing on ground pad was achieved on:\", first_successful_landing_date[0])"
   ]
  },
  {
   "cell_type": "markdown",
   "metadata": {},
   "source": [
    "### Task 6\n",
    "\n",
    "##### List the names of the boosters which have success in drone ship and have payload mass greater than 4000 but less than 6000\n"
   ]
  },
  {
   "cell_type": "code",
   "execution_count": 25,
   "metadata": {},
   "outputs": [
    {
     "data": {
      "text/html": [
       "<style type=\"text/css\">\n",
       "#T_531d0 tr:nth-child(even) {\n",
       "  background-color: #838282;\n",
       "}\n",
       "</style>\n",
       "<table id=\"T_531d0\">\n",
       "  <thead>\n",
       "    <tr>\n",
       "      <th class=\"blank level0\" >&nbsp;</th>\n",
       "      <th id=\"T_531d0_level0_col0\" class=\"col_heading level0 col0\" >Booster_Version</th>\n",
       "    </tr>\n",
       "  </thead>\n",
       "  <tbody>\n",
       "    <tr>\n",
       "      <th id=\"T_531d0_level0_row0\" class=\"row_heading level0 row0\" ></th>\n",
       "      <td id=\"T_531d0_row0_col0\" class=\"data row0 col0\" >F9 FT B1022</td>\n",
       "    </tr>\n",
       "    <tr>\n",
       "      <th id=\"T_531d0_level0_row1\" class=\"row_heading level0 row1\" ></th>\n",
       "      <td id=\"T_531d0_row1_col0\" class=\"data row1 col0\" >F9 FT B1026</td>\n",
       "    </tr>\n",
       "    <tr>\n",
       "      <th id=\"T_531d0_level0_row2\" class=\"row_heading level0 row2\" ></th>\n",
       "      <td id=\"T_531d0_row2_col0\" class=\"data row2 col0\" >F9 FT  B1021.2</td>\n",
       "    </tr>\n",
       "    <tr>\n",
       "      <th id=\"T_531d0_level0_row3\" class=\"row_heading level0 row3\" ></th>\n",
       "      <td id=\"T_531d0_row3_col0\" class=\"data row3 col0\" >F9 FT  B1031.2</td>\n",
       "    </tr>\n",
       "  </tbody>\n",
       "</table>\n"
      ],
      "text/plain": [
       "<pandas.io.formats.style.Styler at 0x7f4e87b160d0>"
      ]
     },
     "execution_count": 25,
     "metadata": {},
     "output_type": "execute_result"
    }
   ],
   "source": [
    "query = \"\"\"\n",
    "SELECT \"Booster_Version\"\n",
    "FROM SPACEXTABLE\n",
    "WHERE \"Landing_Outcome\" = 'Success (drone ship)'\n",
    "AND \"PAYLOAD_MASS__KG_\" > 4000\n",
    "AND \"PAYLOAD_MASS__KG_\" < 6000\n",
    "\"\"\"\n",
    "\n",
    "cur.execute(query)\n",
    "\n",
    "booster_names = cur.fetchall()\n",
    "\n",
    "df = pd.DataFrame(booster_names, columns=[\"Booster_Version\"])\n",
    "\n",
    "styled_df = df.style.set_table_styles([\n",
    "    {'selector': 'tr:nth-child(even)', 'props': [('background-color', '#838282')]}\n",
    "])\n",
    "\n",
    "df.index = [''] * len(df)\n",
    "\n",
    "styled_df"
   ]
  },
  {
   "cell_type": "markdown",
   "metadata": {},
   "source": [
    "### Task 7\n",
    "\n",
    "\n",
    "\n",
    "\n",
    "##### List the total number of successful and failure mission outcomes\n"
   ]
  },
  {
   "cell_type": "code",
   "execution_count": 27,
   "metadata": {},
   "outputs": [
    {
     "data": {
      "text/html": [
       "<style type=\"text/css\">\n",
       "#T_9171d tr:nth-child(even) {\n",
       "  background-color: #838282;\n",
       "}\n",
       "</style>\n",
       "<table id=\"T_9171d\">\n",
       "  <thead>\n",
       "    <tr>\n",
       "      <th class=\"blank level0\" >&nbsp;</th>\n",
       "      <th id=\"T_9171d_level0_col0\" class=\"col_heading level0 col0\" >Mission_Outcome</th>\n",
       "      <th id=\"T_9171d_level0_col1\" class=\"col_heading level0 col1\" >Count</th>\n",
       "    </tr>\n",
       "  </thead>\n",
       "  <tbody>\n",
       "    <tr>\n",
       "      <th id=\"T_9171d_level0_row0\" class=\"row_heading level0 row0\" ></th>\n",
       "      <td id=\"T_9171d_row0_col0\" class=\"data row0 col0\" >Failure (in flight)</td>\n",
       "      <td id=\"T_9171d_row0_col1\" class=\"data row0 col1\" >1</td>\n",
       "    </tr>\n",
       "    <tr>\n",
       "      <th id=\"T_9171d_level0_row1\" class=\"row_heading level0 row1\" ></th>\n",
       "      <td id=\"T_9171d_row1_col0\" class=\"data row1 col0\" >Success</td>\n",
       "      <td id=\"T_9171d_row1_col1\" class=\"data row1 col1\" >98</td>\n",
       "    </tr>\n",
       "    <tr>\n",
       "      <th id=\"T_9171d_level0_row2\" class=\"row_heading level0 row2\" ></th>\n",
       "      <td id=\"T_9171d_row2_col0\" class=\"data row2 col0\" >Success </td>\n",
       "      <td id=\"T_9171d_row2_col1\" class=\"data row2 col1\" >1</td>\n",
       "    </tr>\n",
       "    <tr>\n",
       "      <th id=\"T_9171d_level0_row3\" class=\"row_heading level0 row3\" ></th>\n",
       "      <td id=\"T_9171d_row3_col0\" class=\"data row3 col0\" >Success (payload status unclear)</td>\n",
       "      <td id=\"T_9171d_row3_col1\" class=\"data row3 col1\" >1</td>\n",
       "    </tr>\n",
       "  </tbody>\n",
       "</table>\n"
      ],
      "text/plain": [
       "<pandas.io.formats.style.Styler at 0x7f4e86f8dbd0>"
      ]
     },
     "execution_count": 27,
     "metadata": {},
     "output_type": "execute_result"
    }
   ],
   "source": [
    "query = \"\"\"\n",
    "SELECT \n",
    "    \"Mission_Outcome\",\n",
    "    COUNT(*) as Count\n",
    "FROM SPACEXTABLE\n",
    "GROUP BY \"Mission_Outcome\"\n",
    "\"\"\"\n",
    "\n",
    "cur.execute(query)\n",
    "\n",
    "mission_outcomes = cur.fetchall()\n",
    "\n",
    "df = pd.DataFrame(mission_outcomes, columns=[\"Mission_Outcome\", \"Count\"])\n",
    "\n",
    "styled_df = df.style.set_table_styles([\n",
    "    {'selector': 'tr:nth-child(even)', 'props': [('background-color', '#838282')]}\n",
    "])\n",
    "\n",
    "df.index = [''] * len(df)\n",
    "\n",
    "styled_df"
   ]
  },
  {
   "cell_type": "markdown",
   "metadata": {},
   "source": [
    "### Task 8\n",
    "\n",
    "\n",
    "\n",
    "##### List the   names of the booster_versions which have carried the maximum payload mass. Use a subquery\n"
   ]
  },
  {
   "cell_type": "code",
   "execution_count": 28,
   "metadata": {},
   "outputs": [
    {
     "data": {
      "text/html": [
       "<style type=\"text/css\">\n",
       "#T_3fb06 tr:nth-child(even) {\n",
       "  background-color: #838282;\n",
       "}\n",
       "</style>\n",
       "<table id=\"T_3fb06\">\n",
       "  <thead>\n",
       "    <tr>\n",
       "      <th class=\"blank level0\" >&nbsp;</th>\n",
       "      <th id=\"T_3fb06_level0_col0\" class=\"col_heading level0 col0\" >Booster_Version</th>\n",
       "    </tr>\n",
       "  </thead>\n",
       "  <tbody>\n",
       "    <tr>\n",
       "      <th id=\"T_3fb06_level0_row0\" class=\"row_heading level0 row0\" ></th>\n",
       "      <td id=\"T_3fb06_row0_col0\" class=\"data row0 col0\" >F9 B5 B1048.4</td>\n",
       "    </tr>\n",
       "    <tr>\n",
       "      <th id=\"T_3fb06_level0_row1\" class=\"row_heading level0 row1\" ></th>\n",
       "      <td id=\"T_3fb06_row1_col0\" class=\"data row1 col0\" >F9 B5 B1049.4</td>\n",
       "    </tr>\n",
       "    <tr>\n",
       "      <th id=\"T_3fb06_level0_row2\" class=\"row_heading level0 row2\" ></th>\n",
       "      <td id=\"T_3fb06_row2_col0\" class=\"data row2 col0\" >F9 B5 B1051.3</td>\n",
       "    </tr>\n",
       "    <tr>\n",
       "      <th id=\"T_3fb06_level0_row3\" class=\"row_heading level0 row3\" ></th>\n",
       "      <td id=\"T_3fb06_row3_col0\" class=\"data row3 col0\" >F9 B5 B1056.4</td>\n",
       "    </tr>\n",
       "    <tr>\n",
       "      <th id=\"T_3fb06_level0_row4\" class=\"row_heading level0 row4\" ></th>\n",
       "      <td id=\"T_3fb06_row4_col0\" class=\"data row4 col0\" >F9 B5 B1048.5</td>\n",
       "    </tr>\n",
       "    <tr>\n",
       "      <th id=\"T_3fb06_level0_row5\" class=\"row_heading level0 row5\" ></th>\n",
       "      <td id=\"T_3fb06_row5_col0\" class=\"data row5 col0\" >F9 B5 B1051.4</td>\n",
       "    </tr>\n",
       "    <tr>\n",
       "      <th id=\"T_3fb06_level0_row6\" class=\"row_heading level0 row6\" ></th>\n",
       "      <td id=\"T_3fb06_row6_col0\" class=\"data row6 col0\" >F9 B5 B1049.5</td>\n",
       "    </tr>\n",
       "    <tr>\n",
       "      <th id=\"T_3fb06_level0_row7\" class=\"row_heading level0 row7\" ></th>\n",
       "      <td id=\"T_3fb06_row7_col0\" class=\"data row7 col0\" >F9 B5 B1060.2 </td>\n",
       "    </tr>\n",
       "    <tr>\n",
       "      <th id=\"T_3fb06_level0_row8\" class=\"row_heading level0 row8\" ></th>\n",
       "      <td id=\"T_3fb06_row8_col0\" class=\"data row8 col0\" >F9 B5 B1058.3 </td>\n",
       "    </tr>\n",
       "    <tr>\n",
       "      <th id=\"T_3fb06_level0_row9\" class=\"row_heading level0 row9\" ></th>\n",
       "      <td id=\"T_3fb06_row9_col0\" class=\"data row9 col0\" >F9 B5 B1051.6</td>\n",
       "    </tr>\n",
       "    <tr>\n",
       "      <th id=\"T_3fb06_level0_row10\" class=\"row_heading level0 row10\" ></th>\n",
       "      <td id=\"T_3fb06_row10_col0\" class=\"data row10 col0\" >F9 B5 B1060.3</td>\n",
       "    </tr>\n",
       "    <tr>\n",
       "      <th id=\"T_3fb06_level0_row11\" class=\"row_heading level0 row11\" ></th>\n",
       "      <td id=\"T_3fb06_row11_col0\" class=\"data row11 col0\" >F9 B5 B1049.7 </td>\n",
       "    </tr>\n",
       "  </tbody>\n",
       "</table>\n"
      ],
      "text/plain": [
       "<pandas.io.formats.style.Styler at 0x7f4e89d1f6d0>"
      ]
     },
     "execution_count": 28,
     "metadata": {},
     "output_type": "execute_result"
    }
   ],
   "source": [
    "query = \"\"\"\n",
    "SELECT \"Booster_Version\"\n",
    "FROM SPACEXTABLE\n",
    "WHERE \"PAYLOAD_MASS__KG_\" = (\n",
    "    SELECT MAX(\"PAYLOAD_MASS__KG_\")\n",
    "    FROM SPACEXTABLE\n",
    ")\n",
    "\"\"\"\n",
    "\n",
    "cur.execute(query)\n",
    "\n",
    "booster_versions = cur.fetchall()\n",
    "\n",
    "df = pd.DataFrame(booster_versions, columns=[\"Booster_Version\"])\n",
    "\n",
    "styled_df = df.style.set_table_styles([\n",
    "    {'selector': 'tr:nth-child(even)', 'props': [('background-color', '#838282')]}\n",
    "])\n",
    "\n",
    "df.index = [''] * len(df)\n",
    "\n",
    "styled_df"
   ]
  },
  {
   "cell_type": "markdown",
   "metadata": {},
   "source": [
    "### Task 9\n",
    "\n",
    "\n",
    "##### List the records which will display the month names, failure landing_outcomes in drone ship ,booster versions, launch_site for the months in year 2015.\n",
    "\n",
    "**Note: SQLLite does not support monthnames. So you need to use  substr(Date, 6,2) as month to get the months and substr(Date,0,5)='2015' for year.**\n"
   ]
  },
  {
   "cell_type": "code",
   "execution_count": 29,
   "metadata": {},
   "outputs": [
    {
     "data": {
      "text/html": [
       "<style type=\"text/css\">\n",
       "#T_ff7b2 tr:nth-child(even) {\n",
       "  background-color: #838282;\n",
       "}\n",
       "</style>\n",
       "<table id=\"T_ff7b2\">\n",
       "  <thead>\n",
       "    <tr>\n",
       "      <th class=\"blank level0\" >&nbsp;</th>\n",
       "      <th id=\"T_ff7b2_level0_col0\" class=\"col_heading level0 col0\" >Month</th>\n",
       "      <th id=\"T_ff7b2_level0_col1\" class=\"col_heading level0 col1\" >Landing_Outcome</th>\n",
       "      <th id=\"T_ff7b2_level0_col2\" class=\"col_heading level0 col2\" >Booster_Version</th>\n",
       "      <th id=\"T_ff7b2_level0_col3\" class=\"col_heading level0 col3\" >Launch_Site</th>\n",
       "    </tr>\n",
       "  </thead>\n",
       "  <tbody>\n",
       "    <tr>\n",
       "      <th id=\"T_ff7b2_level0_row0\" class=\"row_heading level0 row0\" ></th>\n",
       "      <td id=\"T_ff7b2_row0_col0\" class=\"data row0 col0\" >January</td>\n",
       "      <td id=\"T_ff7b2_row0_col1\" class=\"data row0 col1\" >Failure (drone ship)</td>\n",
       "      <td id=\"T_ff7b2_row0_col2\" class=\"data row0 col2\" >F9 v1.1 B1012</td>\n",
       "      <td id=\"T_ff7b2_row0_col3\" class=\"data row0 col3\" >CCAFS LC-40</td>\n",
       "    </tr>\n",
       "    <tr>\n",
       "      <th id=\"T_ff7b2_level0_row1\" class=\"row_heading level0 row1\" ></th>\n",
       "      <td id=\"T_ff7b2_row1_col0\" class=\"data row1 col0\" >April</td>\n",
       "      <td id=\"T_ff7b2_row1_col1\" class=\"data row1 col1\" >Failure (drone ship)</td>\n",
       "      <td id=\"T_ff7b2_row1_col2\" class=\"data row1 col2\" >F9 v1.1 B1015</td>\n",
       "      <td id=\"T_ff7b2_row1_col3\" class=\"data row1 col3\" >CCAFS LC-40</td>\n",
       "    </tr>\n",
       "  </tbody>\n",
       "</table>\n"
      ],
      "text/plain": [
       "<pandas.io.formats.style.Styler at 0x7f4e86f8b290>"
      ]
     },
     "execution_count": 29,
     "metadata": {},
     "output_type": "execute_result"
    }
   ],
   "source": [
    "query = \"\"\"\n",
    "SELECT \n",
    "    CASE substr(\"Date\", 6, 2)\n",
    "        WHEN '01' THEN 'January'\n",
    "        WHEN '02' THEN 'February'\n",
    "        WHEN '03' THEN 'March'\n",
    "        WHEN '04' THEN 'April'\n",
    "        WHEN '05' THEN 'May'\n",
    "        WHEN '06' THEN 'June'\n",
    "        WHEN '07' THEN 'July'\n",
    "        WHEN '08' THEN 'August'\n",
    "        WHEN '09' THEN 'September'\n",
    "        WHEN '10' THEN 'October'\n",
    "        WHEN '11' THEN 'November'\n",
    "        WHEN '12' THEN 'December'\n",
    "    END AS Month,\n",
    "    \"Landing_Outcome\",\n",
    "    \"Booster_Version\",\n",
    "    \"Launch_Site\"\n",
    "FROM SPACEXTABLE\n",
    "WHERE substr(\"Date\", 1, 4) = '2015'\n",
    "AND \"Landing_Outcome\" LIKE 'Failure (drone ship)'\n",
    "\"\"\"\n",
    "\n",
    "cur.execute(query)\n",
    "\n",
    "records = cur.fetchall()\n",
    "\n",
    "df = pd.DataFrame(records, columns=[\"Month\", \"Landing_Outcome\", \"Booster_Version\", \"Launch_Site\"])\n",
    "\n",
    "styled_df = df.style.set_table_styles([\n",
    "    {'selector': 'tr:nth-child(even)', 'props': [('background-color', '#838282')]}\n",
    "])\n",
    "\n",
    "df.index = [''] * len(df)\n",
    "\n",
    "styled_df"
   ]
  },
  {
   "cell_type": "markdown",
   "metadata": {},
   "source": [
    "### Task 10\n",
    "\n",
    "\n",
    "\n",
    "\n",
    "##### Rank the count of landing outcomes (such as Failure (drone ship) or Success (ground pad)) between the date 2010-06-04 and 2017-03-20, in descending order.\n"
   ]
  },
  {
   "cell_type": "code",
   "execution_count": 30,
   "metadata": {},
   "outputs": [
    {
     "data": {
      "text/html": [
       "<style type=\"text/css\">\n",
       "#T_49fe0 tr:nth-child(even) {\n",
       "  background-color: #838282;\n",
       "}\n",
       "</style>\n",
       "<table id=\"T_49fe0\">\n",
       "  <thead>\n",
       "    <tr>\n",
       "      <th class=\"blank level0\" >&nbsp;</th>\n",
       "      <th id=\"T_49fe0_level0_col0\" class=\"col_heading level0 col0\" >Landing_Outcome</th>\n",
       "      <th id=\"T_49fe0_level0_col1\" class=\"col_heading level0 col1\" >Count</th>\n",
       "    </tr>\n",
       "  </thead>\n",
       "  <tbody>\n",
       "    <tr>\n",
       "      <th id=\"T_49fe0_level0_row0\" class=\"row_heading level0 row0\" ></th>\n",
       "      <td id=\"T_49fe0_row0_col0\" class=\"data row0 col0\" >No attempt</td>\n",
       "      <td id=\"T_49fe0_row0_col1\" class=\"data row0 col1\" >10</td>\n",
       "    </tr>\n",
       "    <tr>\n",
       "      <th id=\"T_49fe0_level0_row1\" class=\"row_heading level0 row1\" ></th>\n",
       "      <td id=\"T_49fe0_row1_col0\" class=\"data row1 col0\" >Success (drone ship)</td>\n",
       "      <td id=\"T_49fe0_row1_col1\" class=\"data row1 col1\" >5</td>\n",
       "    </tr>\n",
       "    <tr>\n",
       "      <th id=\"T_49fe0_level0_row2\" class=\"row_heading level0 row2\" ></th>\n",
       "      <td id=\"T_49fe0_row2_col0\" class=\"data row2 col0\" >Failure (drone ship)</td>\n",
       "      <td id=\"T_49fe0_row2_col1\" class=\"data row2 col1\" >5</td>\n",
       "    </tr>\n",
       "    <tr>\n",
       "      <th id=\"T_49fe0_level0_row3\" class=\"row_heading level0 row3\" ></th>\n",
       "      <td id=\"T_49fe0_row3_col0\" class=\"data row3 col0\" >Success (ground pad)</td>\n",
       "      <td id=\"T_49fe0_row3_col1\" class=\"data row3 col1\" >3</td>\n",
       "    </tr>\n",
       "    <tr>\n",
       "      <th id=\"T_49fe0_level0_row4\" class=\"row_heading level0 row4\" ></th>\n",
       "      <td id=\"T_49fe0_row4_col0\" class=\"data row4 col0\" >Controlled (ocean)</td>\n",
       "      <td id=\"T_49fe0_row4_col1\" class=\"data row4 col1\" >3</td>\n",
       "    </tr>\n",
       "    <tr>\n",
       "      <th id=\"T_49fe0_level0_row5\" class=\"row_heading level0 row5\" ></th>\n",
       "      <td id=\"T_49fe0_row5_col0\" class=\"data row5 col0\" >Uncontrolled (ocean)</td>\n",
       "      <td id=\"T_49fe0_row5_col1\" class=\"data row5 col1\" >2</td>\n",
       "    </tr>\n",
       "    <tr>\n",
       "      <th id=\"T_49fe0_level0_row6\" class=\"row_heading level0 row6\" ></th>\n",
       "      <td id=\"T_49fe0_row6_col0\" class=\"data row6 col0\" >Failure (parachute)</td>\n",
       "      <td id=\"T_49fe0_row6_col1\" class=\"data row6 col1\" >2</td>\n",
       "    </tr>\n",
       "    <tr>\n",
       "      <th id=\"T_49fe0_level0_row7\" class=\"row_heading level0 row7\" ></th>\n",
       "      <td id=\"T_49fe0_row7_col0\" class=\"data row7 col0\" >Precluded (drone ship)</td>\n",
       "      <td id=\"T_49fe0_row7_col1\" class=\"data row7 col1\" >1</td>\n",
       "    </tr>\n",
       "  </tbody>\n",
       "</table>\n"
      ],
      "text/plain": [
       "<pandas.io.formats.style.Styler at 0x7f4e87b16ad0>"
      ]
     },
     "execution_count": 30,
     "metadata": {},
     "output_type": "execute_result"
    }
   ],
   "source": [
    "query = \"\"\"\n",
    "SELECT \n",
    "    \"Landing_Outcome\",\n",
    "    COUNT(*) as Count\n",
    "FROM SPACEXTABLE\n",
    "WHERE \"Date\" BETWEEN '2010-06-04' AND '2017-03-20'\n",
    "GROUP BY \"Landing_Outcome\"\n",
    "ORDER BY Count DESC\n",
    "\"\"\"\n",
    "\n",
    "cur.execute(query)\n",
    "\n",
    "landing_outcome_counts = cur.fetchall()\n",
    "\n",
    "df = pd.DataFrame(landing_outcome_counts, columns=[\"Landing_Outcome\", \"Count\"])\n",
    "\n",
    "styled_df = df.style.set_table_styles([\n",
    "    {'selector': 'tr:nth-child(even)', 'props': [('background-color', '#838282')]}\n",
    "])\n",
    "\n",
    "df.index = [''] * len(df)\n",
    "\n",
    "styled_df"
   ]
  },
  {
   "cell_type": "markdown",
   "metadata": {},
   "source": [
    "### Reference Links\n",
    "\n",
    "* <a href =\"https://cf-courses-data.s3.us.cloud-object-storage.appdomain.cloud/IBMDeveloperSkillsNetwork-DB0201EN-SkillsNetwork/labs/Labs_Coursera_V5/labs/Lab%20-%20String%20Patterns%20-%20Sorting%20-%20Grouping/instructional-labs.md.html?origin=www.coursera.org\">Hands-on Lab : String Patterns, Sorting and Grouping</a>  \n",
    "\n",
    "*  <a  href=\"https://cf-courses-data.s3.us.cloud-object-storage.appdomain.cloud/IBMDeveloperSkillsNetwork-DB0201EN-SkillsNetwork/labs/Labs_Coursera_V5/labs/Lab%20-%20Built-in%20functions%20/Hands-on_Lab__Built-in_Functions.md.html?origin=www.coursera.org\">Hands-on Lab: Built-in functions</a>\n",
    "\n",
    "*  <a  href=\"https://cf-courses-data.s3.us.cloud-object-storage.appdomain.cloud/IBMDeveloperSkillsNetwork-DB0201EN-SkillsNetwork/labs/Labs_Coursera_V5/labs/Lab%20-%20Sub-queries%20and%20Nested%20SELECTs%20/instructional-labs.md.html?origin=www.coursera.org\">Hands-on Lab : Sub-queries and Nested SELECT Statements</a>\n",
    "\n",
    "*   <a href=\"https://cf-courses-data.s3.us.cloud-object-storage.appdomain.cloud/IBMDeveloperSkillsNetwork-DB0201EN-SkillsNetwork/labs/Module%205/DB0201EN-Week3-1-3-SQLmagic.ipynb\">Hands-on Tutorial: Accessing Databases with SQL magic</a>\n",
    "\n",
    "*  <a href= \"https://cf-courses-data.s3.us.cloud-object-storage.appdomain.cloud/IBMDeveloperSkillsNetwork-DB0201EN-SkillsNetwork/labs/Module%205/DB0201EN-Week3-1-4-Analyzing.ipynb\">Hands-on Lab: Analyzing a real World Data Set</a>\n",
    "\n",
    "\n"
   ]
  },
  {
   "cell_type": "markdown",
   "metadata": {},
   "source": [
    "## Author(s)\n",
    "\n",
    "<h4> Lakshmi Holla </h4>\n"
   ]
  },
  {
   "cell_type": "markdown",
   "metadata": {},
   "source": [
    "## Other Contributors\n",
    "\n",
    "<h4> Rav Ahuja </h4>\n"
   ]
  },
  {
   "cell_type": "markdown",
   "metadata": {},
   "source": [
    "<!--\n",
    "## Change log\n",
    "| Date | Version | Changed by | Change Description |\n",
    "|------|--------|--------|---------|\n",
    "| 2024-07-10 | 1.1 |Anita Verma | Changed Version|\n",
    "| 2021-07-09 | 0.2 |Lakshmi Holla | Changes made in magic sql|\n",
    "| 2021-05-20 | 0.1 |Lakshmi Holla | Created Initial Version |\n",
    "-->\n"
   ]
  },
  {
   "cell_type": "markdown",
   "metadata": {},
   "source": [
    "## <h3 align=\"center\"> © IBM Corporation 2021. All rights reserved. <h3/>\n"
   ]
  }
 ],
 "metadata": {
  "kernelspec": {
   "display_name": "Python 3 (ipykernel)",
   "language": "python",
   "name": "python3"
  },
  "language_info": {
   "codemirror_mode": {
    "name": "ipython",
    "version": 3
   },
   "file_extension": ".py",
   "mimetype": "text/x-python",
   "name": "python",
   "nbconvert_exporter": "python",
   "pygments_lexer": "ipython3",
   "version": "3.11.9"
  },
  "prev_pub_hash": "a5fa84525a820d08c9ec9c9cccf7d39455745aa2be6c2efdd18931346283d2d9"
 },
 "nbformat": 4,
 "nbformat_minor": 4
}
